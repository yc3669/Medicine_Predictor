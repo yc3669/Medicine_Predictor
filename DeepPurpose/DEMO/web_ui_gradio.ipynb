{
 "cells": [
  {
   "cell_type": "code",
   "execution_count": 4,
   "metadata": {},
   "outputs": [
    {
     "name": "stderr",
     "output_type": "stream",
     "text": [
      "C:\\Users\\admin\\AppData\\Local\\Temp\\ipykernel_33976\\3146825925.py:17: GradioDeprecationWarning: Usage of gradio.inputs is deprecated, and will not be supported in the future, please import your component from gradio.components\n",
      "  [gradio.inputs.Textbox(lines = 5, label = \"Drug SMILES\"),\n",
      "C:\\Users\\admin\\AppData\\Local\\Temp\\ipykernel_33976\\3146825925.py:17: GradioDeprecationWarning: `optional` parameter is deprecated, and it has no effect\n",
      "  [gradio.inputs.Textbox(lines = 5, label = \"Drug SMILES\"),\n",
      "C:\\Users\\admin\\AppData\\Local\\Temp\\ipykernel_33976\\3146825925.py:17: GradioDeprecationWarning: `numeric` parameter is deprecated, and it has no effect\n",
      "  [gradio.inputs.Textbox(lines = 5, label = \"Drug SMILES\"),\n",
      "C:\\Users\\admin\\AppData\\Local\\Temp\\ipykernel_33976\\3146825925.py:18: GradioDeprecationWarning: Usage of gradio.inputs is deprecated, and will not be supported in the future, please import your component from gradio.components\n",
      "  gradio.inputs.Textbox(lines = 5, label = \"Target Amino Acid Sequence\")],\n",
      "C:\\Users\\admin\\AppData\\Local\\Temp\\ipykernel_33976\\3146825925.py:18: GradioDeprecationWarning: `optional` parameter is deprecated, and it has no effect\n",
      "  gradio.inputs.Textbox(lines = 5, label = \"Target Amino Acid Sequence\")],\n",
      "C:\\Users\\admin\\AppData\\Local\\Temp\\ipykernel_33976\\3146825925.py:18: GradioDeprecationWarning: `numeric` parameter is deprecated, and it has no effect\n",
      "  gradio.inputs.Textbox(lines = 5, label = \"Target Amino Acid Sequence\")],\n",
      "C:\\Users\\admin\\AppData\\Local\\Temp\\ipykernel_33976\\3146825925.py:19: GradioDeprecationWarning: Usage of gradio.outputs is deprecated, and will not be supported in the future, please import your components from gradio.components\n",
      "  gradio.outputs.Textbox(label = \"Predicted Affinity\")).launch(share=True)\n"
     ]
    },
    {
     "name": "stdout",
     "output_type": "stream",
     "text": [
      "Dataset already downloaded in the local system...\n",
      "Running on local URL:  http://127.0.0.1:7862\n",
      "IMPORTANT: You are using gradio version 3.41.0, however version 4.29.0 is available, please upgrade.\n",
      "--------\n",
      "Drug Target Interaction Prediction Mode...\n",
      "in total: 1 drug-target pairs\n",
      "encoding drug...\n",
      "unique drugs: 1\n",
      "encoding protein...\n",
      "unique target sequence: 1\n",
      "splitting dataset...\n",
      "do not do train/test split on the data for already splitted data\n",
      "predicting...\n",
      "\n",
      "Could not create share link. Please check your internet connection or our status page: https://status.gradio.app.\n"
     ]
    },
    {
     "data": {
      "text/html": [
       "<div><iframe src=\"http://127.0.0.1:7862/\" width=\"100%\" height=\"500\" allow=\"autoplay; camera; microphone; clipboard-read; clipboard-write;\" frameborder=\"0\" allowfullscreen></iframe></div>"
      ],
      "text/plain": [
       "<IPython.core.display.HTML object>"
      ]
     },
     "metadata": {},
     "output_type": "display_data"
    },
    {
     "data": {
      "text/plain": []
     },
     "execution_count": 4,
     "metadata": {},
     "output_type": "execute_result"
    }
   ],
   "source": [
    "import os\n",
    "os.chdir('../')\n",
    "from DeepPurpose import utils\n",
    "from DeepPurpose import DTI as models\n",
    "import gradio\n",
    "\n",
    "model = models.model_pretrained(model = 'MPNN_CNN_BindingDB')\n",
    "\n",
    "def DTI_pred(drug, target):\n",
    "    X_pred = utils.data_process(X_drug = [drug], X_target = [target], y = [0],\n",
    "                                drug_encoding = 'MPNN', target_encoding = 'CNN', \n",
    "                                split_method='no_split')\n",
    "    y_pred = model.predict(X_pred)\n",
    "    return str(y_pred[0])\n",
    "\n",
    "gradio.Interface(DTI_pred, \n",
    "                 [gradio.inputs.Textbox(lines = 5, label = \"Drug SMILES\"),\n",
    "                  gradio.inputs.Textbox(lines = 5, label = \"Target Amino Acid Sequence\")], \n",
    "                 gradio.outputs.Textbox(label = \"Predicted Affinity\")).launch(share=True)"
   ]
  },
  {
   "cell_type": "code",
   "execution_count": null,
   "metadata": {},
   "outputs": [],
   "source": []
  }
 ],
 "metadata": {
  "kernelspec": {
   "display_name": "Python 3 (ipykernel)",
   "language": "python",
   "name": "python3"
  },
  "language_info": {
   "codemirror_mode": {
    "name": "ipython",
    "version": 3
   },
   "file_extension": ".py",
   "mimetype": "text/x-python",
   "name": "python",
   "nbconvert_exporter": "python",
   "pygments_lexer": "ipython3",
   "version": "3.9.12"
  }
 },
 "nbformat": 4,
 "nbformat_minor": 4
}
